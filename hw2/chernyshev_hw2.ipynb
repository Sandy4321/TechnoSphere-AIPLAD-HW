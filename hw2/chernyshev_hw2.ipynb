{
 "cells": [
  {
   "cell_type": "markdown",
   "metadata": {},
   "source": [
    "# Алгоритмы интеллектуальной обработки больших объемов данных\n",
    "## Домашнее задание №2 - Дерево решений\n"
   ]
  },
  {
   "cell_type": "markdown",
   "metadata": {},
   "source": [
    "**Общая информация**\n",
    "\n",
    "**Срок сдачи:** до 27 марта 2018, 06:00   \n",
    "**Штраф за опоздание:** -2 балла после 06:00 27 марта, -4 балла после 06:00 3 апреля, -6 баллов после 06:00 10 апреля\n",
    "\n",
    "При отправлении ДЗ указывайте фамилию в названии файла   \n",
    "\n",
    "\n",
    "Присылать ДЗ необходимо в виде ссылки на свой github репозиторий в slack @alkhamush\n",
    "Необходимо в slack создать таск в приватный чат:   \n",
    "/todo Фамилия Имя *ссылка на гитхаб* @alkhamush   \n",
    "Пример:   \n",
    "/todo Ксения Стройкова https://github.com/stroykova/spheremailru/stroykova_hw2.ipynb @alkhamush   \n",
    "\n",
    "Используйте данный Ipython Notebook при оформлении домашнего задания."
   ]
  },
  {
   "cell_type": "markdown",
   "metadata": {},
   "source": [
    "###### Задание 1 (2 баллов)\n",
    "Разберитесь в коде MyDecisionTreeClassifier, который уже частично реализован. В комментариях, где написано \"Что делает этот блок кода?\", ответьте на этот вопрос. Допишите код там, где написано \"Ваш код\". Ваша реализация дерева должна работать по точности не хуже DecisionTreeClassifier из sklearn. Точность проверяется на wine и Speed Dating Data.\n",
    "\n",
    "###### Задание 2 (2 балла)\n",
    "Добиться скорости работы на fit сравнимой со sklearn wine и Speed Dating Data. \n",
    "Для этого используем numpy. \n",
    "\n",
    "###### Задание 3 (2 балла)\n",
    "Продемонстрируйте умение работать с Pipeline на данных Speed Dating Data и DecisionTreeClassifier. Нужно в pipeline произвести все необходимые преобразования данных и в конце обучить модель. Задание реализуйте под пунктом Задание 3 (уже написано ниже)\n",
    "\n",
    "###### Задание 4 (2 балла)\n",
    "Добавьте функционал, который определяет значения feature importance. Выведите 10 главных фичей под пунктом Задание 4 (уже написано ниже) для MyDecisionTreeClassifier и DecisionTreeClassifier так, чтобы сразу были видны выводы и по MyDecisionTreeClassifier, и по DecisionTreeClassifier. Используем данные Speed Dating Data.\n",
    "\n",
    "###### Задание 5 (2 балла)\n",
    "С помощью GridSearchCV или RandomSearchCV подберите наиболее оптимальные параметры для случайного леса (Выберете 2-3 параметра). Используем данные Speed Dating Data. Задание реализуйте под пунктом Задание 5 (уже написано ниже)\n",
    "\n",
    "\n",
    "**Штрафные баллы:**\n",
    "\n",
    "1. Невыполнение PEP8 -1 балл\n",
    "2. Отсутствие фамилии в имени скрипта (скрипт должен называться по аналогии со stroykova_hw2.ipynb) -1 балл\n",
    "3. Все строчки должны быть выполнены. Нужно, чтобы output команды можно было увидеть уже в git'е. В противном случае -1 балл\n",
    "4. При оформлении ДЗ нужно пользоваться данным файлом в качестве шаблона. Не нужно удалять и видоизменять написанный код и текст. В противном случае -1 балл"
   ]
  },
  {
   "cell_type": "code",
   "execution_count": 1,
   "metadata": {},
   "outputs": [],
   "source": [
    "import matplotlib.pyplot as plt\n",
    "import numpy as np\n",
    "import pandas as pd\n",
    "\n",
    "from sklearn.datasets import load_wine\n",
    "from sklearn.ensemble import RandomForestClassifier\n",
    "from sklearn.metrics import accuracy_score, f1_score\n",
    "from sklearn.model_selection import KFold, train_test_split, \\\n",
    "    GridSearchCV, RandomizedSearchCV\n",
    "from sklearn.tree import DecisionTreeClassifier\n",
    "from sklearn.pipeline import Pipeline\n",
    "\n",
    "%matplotlib inline\n"
   ]
  },
  {
   "cell_type": "code",
   "execution_count": 2,
   "metadata": {},
   "outputs": [],
   "source": [
    "class MyDecisionTreeClassifier:\n",
    "    NON_LEAF_TYPE = 0\n",
    "    LEAF_TYPE = 1\n",
    "\n",
    "    def __init__(self, min_samples_split=2, max_depth=None,\n",
    "                 sufficient_share=1.0, criterion='gini', max_features=None):\n",
    "        self.tree = dict()\n",
    "        self.min_samples_split = min_samples_split\n",
    "        self.max_depth = max_depth\n",
    "        self.sufficient_share = sufficient_share\n",
    "        self.num_class = -1\n",
    "        self.feature_importances_ = None\n",
    "        if criterion == 'gini':\n",
    "            self.G_function = self.__gini\n",
    "        elif criterion == 'entropy':\n",
    "            self.G_function = self.__entropy\n",
    "        elif criterion == 'misclass':\n",
    "            self.G_function = self.__misclass\n",
    "        else:\n",
    "            print 'invalid criterion name'\n",
    "            raise\n",
    "\n",
    "        if max_features == 'sqrt':\n",
    "            self.get_feature_ids = self.__get_feature_ids_sqrt\n",
    "        elif max_features == 'log2':\n",
    "            self.get_feature_ids = self.__get_feature_ids_log2\n",
    "        elif max_features is None:\n",
    "            self.get_feature_ids = self.__get_feature_ids_N\n",
    "        else:\n",
    "            print 'invalid max_features name'\n",
    "            raise\n",
    "\n",
    "    def __gini(self, l_c, l_s, r_c, r_s):\n",
    "        l_s = l_s.astype('float')\n",
    "        r_s = r_s.astype('float')\n",
    "        return 1 - ((l_c ** 2 / l_s).sum(axis=1) +\n",
    "                    (r_c ** 2 / r_s).sum(axis=1)) / (l_s + r_s)[0]\n",
    "\n",
    "    def __gini_gain(self, y):\n",
    "        return 1 - np.sum((np.bincount(y).astype(float) / y.size) ** 2)\n",
    "\n",
    "    def __entropy(self, l_c, l_s, r_c, r_s):\n",
    "        return -(((l_c / l_s).log2() * l_c).nansum(axis=1) +\n",
    "                 ((r_c / r_s).log2() * r_c).nansum(axis=1)) / (l_s + r_s)[0]\n",
    "\n",
    "    def __entropy_gain(self, y):\n",
    "        p = np.bincount(y).astype(float) / y.size\n",
    "        return -np.nansum(p * np.log2(p))\n",
    "\n",
    "    def __misclass(self, l_c, l_s, r_c, r_s):\n",
    "        return 1 - (l_c.max(axis=1) + r_c.max(axis=1)) / (l_s + r_s)[0]\n",
    "\n",
    "    def __misclass_gain(self, y):\n",
    "        return 1 - np.max(np.bincount(y).astype(float) / y.size)\n",
    "\n",
    "    def __get_feature_ids_sqrt(self, n_feature):\n",
    "        feature_ids = range(n_feature)\n",
    "        np.random.shuffle(feature_ids)\n",
    "        return np.array(feature_ids[:int(np.sqrt(n_feature))])\n",
    "\n",
    "    def __get_feature_ids_log2(self, n_feature):\n",
    "        feature_ids = range(n_feature)\n",
    "        np.random.shuffle(feature_ids)\n",
    "        return np.array(feature_ids[:int(np.log2(n_feature))])\n",
    "\n",
    "    def __get_feature_ids_N(self, n_feature):\n",
    "        return np.arange(n_feature)\n",
    "\n",
    "    def __sort_samples(self, x, y):\n",
    "        sorted_idx = x.argsort()\n",
    "        return x[sorted_idx], y[sorted_idx]\n",
    "\n",
    "    def __div_samples(self, x, y, feature_id, threshold):\n",
    "        left_mask = x[:, feature_id] > threshold\n",
    "        right_mask = ~left_mask\n",
    "        return x[left_mask], x[right_mask], y[left_mask], y[right_mask]\n",
    "\n",
    "    def __find_threshold(self, x, y):\n",
    "        # Сортируем x и y по возрастанию x\n",
    "        sorted_x, sorted_y = self.__sort_samples(x, y)\n",
    "        # Считаем количество различных классов в y\n",
    "        class_number = np.unique(y).shape[0]\n",
    "\n",
    "        # Разбиваем классы так, чтобы в вершинах было хотя бы минимальное\n",
    "        # число (min_samples_split) классов\n",
    "        splitted_sorted_y = \\\n",
    "            sorted_y[self.min_samples_split:-self.min_samples_split]\n",
    "        # r_border_ids — индексы элементов, не совпадающих с следующим за\n",
    "        # ними элементом, к которым добавили min_samples_split + 1. По сути\n",
    "        # r_border_ids — предел, при котором класс меняется\n",
    "        r_border_ids = \\\n",
    "            np.where(splitted_sorted_y[:-1] != splitted_sorted_y[1:])[0] + \\\n",
    "            (self.min_samples_split + 1)\n",
    "\n",
    "        if len(r_border_ids) == 0:\n",
    "            return float('+inf'), None\n",
    "\n",
    "        # Считаем для каждого интервала одного класса число элементов\n",
    "        eq_el_count = r_border_ids - np.append([self.min_samples_split],\n",
    "                                               r_border_ids[:-1])\n",
    "        # one_hot_code заполнили нулями, а затем проставили 1 там, где\n",
    "        # начинается новый класс, т. е. записали разбиение через one hot\n",
    "        # encoding\n",
    "        one_hot_code = np.zeros((r_border_ids.shape[0], self.num_class))\n",
    "        one_hot_code[np.arange(r_border_ids.shape[0]),\n",
    "                     sorted_y[r_border_ids - 1]] = 1\n",
    "        # class_increments — матрица, в которой описано соответствие между\n",
    "        # классами и интервалами\n",
    "        class_increments = one_hot_code * eq_el_count.reshape(-1, 1)\n",
    "        # Добавляем в первую строку откинутые элементы из y\n",
    "        class_increments[0] = class_increments[0] + \\\n",
    "            np.bincount(sorted_y[:self.min_samples_split],\n",
    "                        minlength=self.num_class)\n",
    "\n",
    "        # Находим количество классов в левой и правой частях разбиения\n",
    "        l_class_count = np.cumsum(class_increments, axis=0)\n",
    "        r_class_count = np.bincount(sorted_y, minlength=self.num_class) - \\\n",
    "            l_class_count\n",
    "        # Находим количество элементов в левой и правой частях разбиения\n",
    "        l_sizes = r_border_ids.reshape(l_class_count.shape[0], 1)\n",
    "        r_sizes = sorted_y.shape[0] - l_sizes\n",
    "\n",
    "        # Посчитаем неопределенность для каждого разбиения\n",
    "        gs = self.G_function(l_class_count, l_sizes, r_class_count, r_sizes)\n",
    "        # Выбираем минимум из неопределенностей\n",
    "        idx = np.argmin(gs)\n",
    "\n",
    "        # Возвращаем наименьшую неопределенность и порог для признака\n",
    "        left_el_id = l_sizes[idx][0]\n",
    "        return gs[idx], (sorted_x[left_el_id-1] + sorted_x[left_el_id]) / 2.0\n",
    "\n",
    "    def __fit_node(self, x, y, node_id, depth, pred_f=-1):\n",
    "        if (self.max_depth is not None and depth >= self.max_depth) or \\\n",
    "                y.shape[0] < self.min_samples_split or\\\n",
    "                self.sufficient_share <= float(np.bincount(y).max()) / y.size:\n",
    "            self.tree[node_id] = (self.LEAF_TYPE, np.bincount(y).argmax(),\n",
    "                                  np.bincount(y).astype(float) / y.size)\n",
    "            return\n",
    "\n",
    "        feature_ids = self.get_feature_ids(x.shape[1])\n",
    "        thresholds = np.array([self.__find_threshold(x[:, feature_id], y)\n",
    "                               for feature_id in feature_ids])\n",
    "        best_ts_id = np.argmin(thresholds[:, 0])\n",
    "        _, best_ts = thresholds[best_ts_id]\n",
    "        if best_ts is None:\n",
    "            self.tree[node_id] = (self.LEAF_TYPE, np.bincount(y).argmax(),\n",
    "                                  np.bincount(y).astype(float) / y.size)\n",
    "            return\n",
    "\n",
    "        if self.G_function == self.__gini:\n",
    "            gain_func = self.__gini_gain\n",
    "        elif self.G_function == self.__entropy:\n",
    "            gain_func = self.__entropy_gain\n",
    "        else:\n",
    "            gain_func = self.__misclass_gain\n",
    "\n",
    "        x_l, x_r, y_l, y_r = \\\n",
    "            self.__div_samples(x, y, feature_ids[best_ts_id], best_ts)\n",
    "        if x_l.shape[0] == 0 or x_r.shape[0] == 0:\n",
    "            self.tree[node_id] = (self.LEAF_TYPE, np.bincount(y).argmax(),\n",
    "                                  np.bincount(y).astype(float) / y.size)\n",
    "            return\n",
    "\n",
    "        self.tree[node_id] = (self.NON_LEAF_TYPE, feature_ids[best_ts_id],\n",
    "                              best_ts)\n",
    "        self.feature_importances_[best_ts_id] += gain_func(y) - \\\n",
    "            (gain_func(y_l) * y_l.size + gain_func(y_r) * y_r.size) / y.size\n",
    "        self.__fit_node(x_l, y_l, 2 * node_id + 1, depth + 1, pred_f)\n",
    "        self.__fit_node(x_r, y_r, 2 * node_id + 2, depth + 1, pred_f)\n",
    "\n",
    "    def fit(self, x, y):\n",
    "        self.num_class = np.unique(y).size\n",
    "        self.feature_importances_ = np.zeros(x.shape[1])\n",
    "        self.__fit_node(x, y, 0, 0)\n",
    "        self.feature_importances_ = \\\n",
    "            self.feature_importances_.astype(float) / y.size\n",
    "\n",
    "    def __predict_class(self, x, node_id):\n",
    "        node = self.tree[node_id]\n",
    "        if node[0] == self.__class__.NON_LEAF_TYPE:\n",
    "            _, feature_id, threshold = node\n",
    "            if x[feature_id] > threshold:\n",
    "                return self.__predict_class(x, 2 * node_id + 1)\n",
    "            else:\n",
    "                return self.__predict_class(x, 2 * node_id + 2)\n",
    "        else:\n",
    "            return node[1]\n",
    "\n",
    "    def __predict_probs(self, x, node_id):\n",
    "        node = self.tree[node_id]\n",
    "        if node[0] == self.__class__.NON_LEAF_TYPE:\n",
    "            _, feature_id, threshold = node\n",
    "            if x[feature_id] > threshold:\n",
    "                return self.__predict_probs(x, 2 * node_id + 1)\n",
    "            else:\n",
    "                return self.__predict_probs(x, 2 * node_id + 2)\n",
    "        else:\n",
    "            return node[2]\n",
    "\n",
    "    def predict(self, X):\n",
    "        return np.array([self.__predict_class(x, 0) for x in X])\n",
    "\n",
    "    def predict_probs(self, X):\n",
    "        return np.array([self.__predict_probs(x, 0) for x in X])\n",
    "\n",
    "    def fit_predict(self, x_train, y_train, predicted_x):\n",
    "        self.fit(x_train, y_train)\n",
    "        return self.predict(predicted_x)\n"
   ]
  },
  {
   "cell_type": "code",
   "execution_count": 3,
   "metadata": {},
   "outputs": [],
   "source": [
    "my_clf = MyDecisionTreeClassifier(min_samples_split=2)\n",
    "clf = DecisionTreeClassifier(min_samples_split=2)\n"
   ]
  },
  {
   "cell_type": "code",
   "execution_count": 4,
   "metadata": {},
   "outputs": [],
   "source": [
    "wine = load_wine()\n",
    "X_train, X_test, y_train, y_test = \\\n",
    "    train_test_split(wine.data, wine.target, test_size=0.1,\n",
    "                     stratify=wine.target)\n"
   ]
  },
  {
   "cell_type": "markdown",
   "metadata": {},
   "source": [
    "## Проверка скорости работы на wine"
   ]
  },
  {
   "cell_type": "code",
   "execution_count": 5,
   "metadata": {
    "scrolled": true
   },
   "outputs": [
    {
     "name": "stdout",
     "output_type": "stream",
     "text": [
      "CPU times: user 1.66 ms, sys: 388 µs, total: 2.05 ms\n",
      "Wall time: 1.82 ms\n"
     ]
    },
    {
     "data": {
      "text/plain": [
       "DecisionTreeClassifier(class_weight=None, criterion='gini', max_depth=None,\n",
       "            max_features=None, max_leaf_nodes=None,\n",
       "            min_impurity_decrease=0.0, min_impurity_split=None,\n",
       "            min_samples_leaf=1, min_samples_split=2,\n",
       "            min_weight_fraction_leaf=0.0, presort=False, random_state=None,\n",
       "            splitter='best')"
      ]
     },
     "execution_count": 5,
     "metadata": {},
     "output_type": "execute_result"
    }
   ],
   "source": [
    "%time clf.fit(X_train, y_train)\n"
   ]
  },
  {
   "cell_type": "code",
   "execution_count": 6,
   "metadata": {
    "scrolled": true
   },
   "outputs": [
    {
     "name": "stdout",
     "output_type": "stream",
     "text": [
      "CPU times: user 21.7 ms, sys: 1.09 ms, total: 22.8 ms\n",
      "Wall time: 23.9 ms\n"
     ]
    }
   ],
   "source": [
    "%time my_clf.fit(X_train, y_train)\n"
   ]
  },
  {
   "cell_type": "markdown",
   "metadata": {},
   "source": [
    "## Проверка качества работы на wine"
   ]
  },
  {
   "cell_type": "code",
   "execution_count": 7,
   "metadata": {},
   "outputs": [
    {
     "data": {
      "text/plain": [
       "0.88850038850038848"
      ]
     },
     "execution_count": 7,
     "metadata": {},
     "output_type": "execute_result"
    }
   ],
   "source": [
    "f1_score(y_pred=clf.predict(X_test), y_true=y_test, average='macro')\n"
   ]
  },
  {
   "cell_type": "code",
   "execution_count": 8,
   "metadata": {},
   "outputs": [
    {
     "data": {
      "text/plain": [
       "0.89177489177489166"
      ]
     },
     "execution_count": 8,
     "metadata": {},
     "output_type": "execute_result"
    }
   ],
   "source": [
    "f1_score(y_pred=my_clf.predict(X_test), y_true=y_test, average='macro')\n"
   ]
  },
  {
   "cell_type": "markdown",
   "metadata": {},
   "source": [
    "## Подготовка данных Speed Dating Data "
   ]
  },
  {
   "cell_type": "code",
   "execution_count": 9,
   "metadata": {},
   "outputs": [],
   "source": [
    "def prepare(df):\n",
    "    global X, y, features_names\n",
    "    df = df.iloc[:, :97]\n",
    "    df = df.drop(['id'], axis=1)\n",
    "    df = df.drop(['idg'], axis=1)\n",
    "    df = df.drop(['condtn'], axis=1)\n",
    "    df = df.drop(['round'], axis=1)\n",
    "    df = df.drop(['position', 'positin1'], axis=1)\n",
    "    df = df.drop(['order'], axis=1)\n",
    "    df = df.drop(['partner'], axis=1)\n",
    "    df = df.drop(['age_o', 'race_o', 'pf_o_att', 'pf_o_sin', 'pf_o_int',\n",
    "                  'pf_o_fun', 'pf_o_amb', 'pf_o_sha', 'dec_o', 'attr_o',\n",
    "                  'sinc_o', 'intel_o', 'fun_o', 'amb_o', 'shar_o', 'like_o',\n",
    "                  'prob_o', 'met_o'], axis=1)\n",
    "    df.drop_duplicates('iid').age.isnull().sum()\n",
    "    df = df.dropna(subset=['age'])\n",
    "    df.loc[:, 'field_cd'] = df.loc[:, 'field_cd'].fillna(0)\n",
    "    df = df.drop(['field'], axis=1)\n",
    "    pd.get_dummies(df, columns=['field_cd'], prefix='field_cd', prefix_sep='=')\n",
    "    df = df.drop(['undergra'], axis=1)\n",
    "    df.loc[:, 'mn_sat'] = \\\n",
    "        df.loc[:, 'mn_sat'].str.replace(',', '').astype(np.float)\n",
    "    df.loc[:, 'mn_sat'] = df.mn_sat.fillna(-999)\n",
    "    df.loc[:, 'tuition'] = \\\n",
    "        df.loc[:, 'tuition'].str.replace(',', '').astype(np.float)\n",
    "    df.loc[:, 'tuition'] = df.tuition.fillna(-999)\n",
    "    df = df.dropna(subset=['imprelig', 'imprace'])\n",
    "    df = df.drop(['from', 'zipcode'], axis=1)\n",
    "    df.loc[:, 'income'] = \\\n",
    "        df.loc[:, 'income'].str.replace(',', '').astype(np.float)\n",
    "    df.loc[:, 'income'] = df.loc[:, 'income'].fillna(-999)\n",
    "    df = df.dropna(subset=['date'])\n",
    "    df.loc[:, 'career_c'] = df.loc[:, 'career_c'].fillna(0)\n",
    "    df = df.drop(['career'], axis=1)\n",
    "    df = df.drop(['sports', 'tvsports', 'exercise', 'dining', 'museums',\n",
    "                  'art', 'hiking', 'gaming', 'clubbing', 'reading', 'tv',\n",
    "                  'theater', 'movies', 'concerts', 'music', 'shopping',\n",
    "                  'yoga'], axis=1)\n",
    "    df = df.drop(['expnum'], axis=1)\n",
    "    feat = ['iid', 'wave', 'attr1_1', 'sinc1_1', 'intel1_1', 'fun1_1',\n",
    "            'amb1_1', 'shar1_1']\n",
    "    temp = df.drop_duplicates(subset=['iid', 'wave']).loc[:, feat]\n",
    "    temp.loc[:, 'totalsum'] = temp.iloc[:, 2:].sum(axis=1)\n",
    "    df.loc[:, 'temp_totalsum'] = \\\n",
    "        df.loc[:, ['attr1_1', 'sinc1_1', 'intel1_1', 'fun1_1', 'amb1_1',\n",
    "                   'shar1_1']].sum(axis=1)\n",
    "    df.loc[:, ['attr1_1', 'sinc1_1', 'intel1_1', 'fun1_1', 'amb1_1',\n",
    "               'shar1_1']] = (df.loc[:, ['attr1_1', 'sinc1_1', 'intel1_1',\n",
    "                                         'fun1_1', 'amb1_1', 'shar1_1']].T /\n",
    "                              df.loc[:, 'temp_totalsum'].T).T * 100\n",
    "    feat = ['iid', 'wave', 'attr2_1', 'sinc2_1', 'intel2_1', 'fun2_1',\n",
    "            'amb2_1', 'shar2_1']\n",
    "    temp = df.drop_duplicates(subset=['iid', 'wave']).loc[:, feat]\n",
    "    temp.loc[:, 'totalsum'] = temp.iloc[:, 2:].sum(axis=1)\n",
    "    df.loc[:, 'temp_totalsum'] = df.loc[:, ['attr2_1', 'sinc2_1', 'intel2_1',\n",
    "                                            'fun2_1', 'amb2_1', 'shar2_1']]\\\n",
    "                                   .sum(axis=1)\n",
    "    df.loc[:, ['attr2_1', 'sinc2_1', 'intel2_1', 'fun2_1', 'amb2_1',\n",
    "               'shar2_1']] = (df.loc[:, ['attr2_1', 'sinc2_1', 'intel2_1',\n",
    "                                         'fun2_1', 'amb2_1', 'shar2_1']].T /\n",
    "                              df.loc[:, 'temp_totalsum'].T).T * 100\n",
    "    df = df.drop(['temp_totalsum'], axis=1)\n",
    "\n",
    "    for i in [4, 5]:\n",
    "        feat = ['attr{}_1'.format(i), 'sinc{}_1'.format(i),\n",
    "                'intel{}_1'.format(i), 'fun{}_1'.format(i),\n",
    "                'amb{}_1'.format(i), 'shar{}_1'.format(i)]\n",
    "        if i != 4:\n",
    "            feat.remove('shar{}_1'.format(i))\n",
    "        df = df.drop(feat, axis=1)\n",
    "\n",
    "    df = df.drop(['wave'], axis=1)\n",
    "    df_male = df.query('gender == 1').drop_duplicates(subset=['iid', 'pid'])\\\n",
    "                .drop(['gender'], axis=1).dropna()\n",
    "    df_female = df.query('gender == 0').drop_duplicates(subset=['iid'])\\\n",
    "                  .drop(['gender', 'match', 'int_corr', 'samerace'], axis=1)\\\n",
    "                  .dropna()\n",
    "\n",
    "    df_female.columns = df_female.columns + '_f'\n",
    "    df_female = df_female.drop(['pid_f'], axis=1)\n",
    "    df_pair = df_male.join(df_female.set_index('iid_f'), on='pid', how='inner')\n",
    "    df_pair = df_pair.drop(['iid', 'pid'], axis=1)\n",
    "    X = df_pair.iloc[:, 1:].values\n",
    "    y = df_pair.iloc[:, 0].values\n",
    "    features_names = df_pair.columns[1:]\n",
    "\n",
    "\n",
    "def split_data():\n",
    "    global X, y, X_train, X_test, y_train, y_test\n",
    "    X_train, X_test, y_train, y_test = \\\n",
    "        train_test_split(X, y, test_size=0.1, random_state=179179179)\n"
   ]
  },
  {
   "cell_type": "code",
   "execution_count": 10,
   "metadata": {},
   "outputs": [],
   "source": [
    "df = pd.read_csv('Speed Dating Data.csv', encoding='cp1251')\n",
    "prepare(df)\n",
    "split_data()\n",
    "my_clf = MyDecisionTreeClassifier(min_samples_split=2)\n",
    "clf = DecisionTreeClassifier(min_samples_split=2)\n"
   ]
  },
  {
   "cell_type": "markdown",
   "metadata": {},
   "source": [
    "## Проверка скорости работы на Speed Dating Data "
   ]
  },
  {
   "cell_type": "code",
   "execution_count": 11,
   "metadata": {},
   "outputs": [
    {
     "name": "stdout",
     "output_type": "stream",
     "text": [
      "CPU times: user 87.9 ms, sys: 1.94 ms, total: 89.9 ms\n",
      "Wall time: 117 ms\n"
     ]
    },
    {
     "data": {
      "text/plain": [
       "DecisionTreeClassifier(class_weight=None, criterion='gini', max_depth=None,\n",
       "            max_features=None, max_leaf_nodes=None,\n",
       "            min_impurity_decrease=0.0, min_impurity_split=None,\n",
       "            min_samples_leaf=1, min_samples_split=2,\n",
       "            min_weight_fraction_leaf=0.0, presort=False, random_state=None,\n",
       "            splitter='best')"
      ]
     },
     "execution_count": 11,
     "metadata": {},
     "output_type": "execute_result"
    }
   ],
   "source": [
    "%time clf.fit(X_train, y_train)\n"
   ]
  },
  {
   "cell_type": "code",
   "execution_count": 12,
   "metadata": {},
   "outputs": [
    {
     "name": "stdout",
     "output_type": "stream",
     "text": [
      "CPU times: user 1.69 s, sys: 24.8 ms, total: 1.71 s\n",
      "Wall time: 1.85 s\n"
     ]
    }
   ],
   "source": [
    "%time my_clf.fit(X_train, y_train)\n"
   ]
  },
  {
   "cell_type": "markdown",
   "metadata": {},
   "source": [
    "## Проверка качества работы на Speed Dating Data"
   ]
  },
  {
   "cell_type": "code",
   "execution_count": 13,
   "metadata": {},
   "outputs": [
    {
     "data": {
      "text/plain": [
       "0.60621674835574546"
      ]
     },
     "execution_count": 13,
     "metadata": {},
     "output_type": "execute_result"
    }
   ],
   "source": [
    "f1_score(y_pred=clf.predict(X_test), y_true=y_test, average='macro')\n"
   ]
  },
  {
   "cell_type": "code",
   "execution_count": 14,
   "metadata": {},
   "outputs": [
    {
     "data": {
      "text/plain": [
       "0.59481103166496422"
      ]
     },
     "execution_count": 14,
     "metadata": {},
     "output_type": "execute_result"
    }
   ],
   "source": [
    "f1_score(y_pred=my_clf.predict(X_test), y_true=y_test, average='macro')\n"
   ]
  },
  {
   "cell_type": "markdown",
   "metadata": {},
   "source": [
    "## Задание 3"
   ]
  },
  {
   "cell_type": "code",
   "execution_count": 15,
   "metadata": {},
   "outputs": [
    {
     "data": {
      "text/plain": [
       "0.62124097998454497"
      ]
     },
     "execution_count": 15,
     "metadata": {},
     "output_type": "execute_result"
    }
   ],
   "source": [
    "df = pd.read_csv('Speed Dating Data.csv', encoding='cp1251')\n",
    "\n",
    "pipeline = Pipeline([\n",
    "    ('prepare', prepare(df)),\n",
    "    ('split', split_data()),\n",
    "    ('clf', DecisionTreeClassifier()),\n",
    "])\n",
    "\n",
    "pipeline.fit(X_train, y_train)\n",
    "f1_score(y_pred=pipeline.predict(X_test), y_true=y_test, average='macro')\n"
   ]
  },
  {
   "cell_type": "markdown",
   "metadata": {},
   "source": [
    "## Задание 4"
   ]
  },
  {
   "cell_type": "code",
   "execution_count": 16,
   "metadata": {},
   "outputs": [
    {
     "name": "stdout",
     "output_type": "stream",
     "text": [
      "my clf\n",
      "\n",
      "int_corr      0.000311\n",
      "age           0.000206\n",
      "goal_f        0.000146\n",
      "field_cd      0.000143\n",
      "sinc2_1_f     0.000136\n",
      "imprelig      0.000136\n",
      "intel2_1      0.000132\n",
      "income_f      0.000117\n",
      "tuition_f     0.000108\n",
      "intel1_1_f    0.000088\n",
      "dtype: float64\n",
      "\n",
      "sklearn clf\n",
      "\n",
      "int_corr      0.090542\n",
      "fun1_1_f      0.036652\n",
      "amb1_1_f      0.036318\n",
      "age_f         0.031568\n",
      "imprelig_f    0.029123\n",
      "income_f      0.028719\n",
      "age           0.027012\n",
      "sinc2_1_f     0.024813\n",
      "field_cd_f    0.023786\n",
      "fun2_1_f      0.023254\n",
      "dtype: float64\n"
     ]
    }
   ],
   "source": [
    "def get_stat(names, clf):\n",
    "    return pd.Series(index=features_names, data=clf.feature_importances_)\\\n",
    "             .sort_values(ascending=False)[:10]\n",
    "\n",
    "print 'my clf\\n\\n{}\\n\\nsklearn clf\\n\\n{}'.format(\n",
    "    get_stat(features_names, my_clf), get_stat(features_names, clf))\n"
   ]
  },
  {
   "cell_type": "markdown",
   "metadata": {},
   "source": [
    "## Задание 5"
   ]
  },
  {
   "cell_type": "code",
   "execution_count": 17,
   "metadata": {},
   "outputs": [
    {
     "name": "stdout",
     "output_type": "stream",
     "text": [
      "{'n_estimators': 77, 'min_samples_split': 7, 'criterion': 'entropy', 'max_depth': 1}\n"
     ]
    }
   ],
   "source": [
    "clf = RandomForestClassifier(random_state=179179179)\n",
    "param_dist = {\"max_depth\": range(1, 11) + [None],\n",
    "              \"min_samples_split\": range(2, 11),\n",
    "              \"n_estimators\": range(1, 101),\n",
    "              \"criterion\": [\"gini\", \"entropy\"]}\n",
    "n_iter_search = 20\n",
    "random_search = RandomizedSearchCV(clf, param_distributions=param_dist,\n",
    "                                   n_iter=n_iter_search)\n",
    "random_search.fit(X, y)\n",
    "print random_search.best_params_\n"
   ]
  }
 ],
 "metadata": {
  "kernelspec": {
   "display_name": "Python 2",
   "language": "python",
   "name": "python2"
  },
  "language_info": {
   "codemirror_mode": {
    "name": "ipython",
    "version": 2
   },
   "file_extension": ".py",
   "mimetype": "text/x-python",
   "name": "python",
   "nbconvert_exporter": "python",
   "pygments_lexer": "ipython2",
   "version": "2.7.14"
  }
 },
 "nbformat": 4,
 "nbformat_minor": 2
}
